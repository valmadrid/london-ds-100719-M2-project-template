{
 "cells": [
  {
   "cell_type": "markdown",
   "metadata": {},
   "source": [
    "Upon completion of this lab, each unique team in this dataset should have a record in the MongoDB instance containing the following information:\n",
    "\n",
    "* The name of the team\n",
    "* The total number of goals scored by the team during the 2011 season\n",
    "* The total number of wins the team earned during the 2011 season\n",
    "* A histogram visualization of the team's wins and losses for the 2011 season (store the visualization directly)\n",
    "* The team's win percentage on days where it was raining during games in the 2011 season.\n",
    "\n",
    "Note that for this last calculation, you'll need to figure out if it was raining or not during the game. The database itself does not contain this information, but it does contain the date on which the game was played. For this, you'll need to use the DarkSky API to get the historical weather data for that day. Note that each game is played in a different location, and this information is not contained in our SQL database. However, the teams in this database are largely german, so go ahead and just use the weather in Berlin, Germany as a proxy for this information. If it was raining in Berlin on the day the game was played, count that as rain game--you do not need to try and figure out the actual weather at each game's location, because we don't have that information!"
   ]
  },
  {
   "cell_type": "code",
   "execution_count": 139,
   "metadata": {},
   "outputs": [
    {
     "ename": "ModuleNotFoundError",
     "evalue": "No module named 'dotenv'",
     "output_type": "error",
     "traceback": [
      "\u001b[0;31m---------------------------------------------------------------------------\u001b[0m",
      "\u001b[0;31mModuleNotFoundError\u001b[0m                       Traceback (most recent call last)",
      "\u001b[0;32m<ipython-input-139-c398d1102495>\u001b[0m in \u001b[0;36m<module>\u001b[0;34m\u001b[0m\n\u001b[1;32m      8\u001b[0m \u001b[0;32mimport\u001b[0m \u001b[0mrequests\u001b[0m\u001b[0;34m\u001b[0m\u001b[0;34m\u001b[0m\u001b[0m\n\u001b[1;32m      9\u001b[0m \u001b[0;34m\u001b[0m\u001b[0m\n\u001b[0;32m---> 10\u001b[0;31m \u001b[0;32mfrom\u001b[0m \u001b[0mdotenv\u001b[0m \u001b[0;32mimport\u001b[0m \u001b[0mload_dotenv\u001b[0m\u001b[0;34m\u001b[0m\u001b[0;34m\u001b[0m\u001b[0m\n\u001b[0m\u001b[1;32m     11\u001b[0m \u001b[0;32mimport\u001b[0m \u001b[0mos\u001b[0m\u001b[0;34m\u001b[0m\u001b[0;34m\u001b[0m\u001b[0m\n\u001b[1;32m     12\u001b[0m \u001b[0mload_dotenv\u001b[0m\u001b[0;34m(\u001b[0m\u001b[0;34m)\u001b[0m\u001b[0;34m\u001b[0m\u001b[0;34m\u001b[0m\u001b[0m\n",
      "\u001b[0;31mModuleNotFoundError\u001b[0m: No module named 'dotenv'"
     ]
    }
   ],
   "source": [
    "from lib import MongoHandler, WeatherGetter\n",
    "import pandas as pd\n",
    "import sqlite3 \n",
    "from pandasql import sqldf\n",
    "pysqldf = lambda q: sqldf(q, globals())\n",
    "import matplotlib.pyplot as plt\n",
    "%matplotlib inline\n",
    "import requests\n",
    "\n",
    "from dotenv import load_dotenv\n",
    "import os\n",
    "load_dotenv()"
   ]
  },
  {
   "cell_type": "code",
   "execution_count": 141,
   "metadata": {},
   "outputs": [
    {
     "name": "stdout",
     "output_type": "stream",
     "text": [
      "Collecting dotenv\n",
      "  Using cached https://files.pythonhosted.org/packages/e2/46/3754073706e31670eed18bfa8a879305b56a471db15f20523c2427b10078/dotenv-0.0.5.tar.gz\n",
      "\u001b[31m    ERROR: Command errored out with exit status 1:\n",
      "     command: /Applications/anaconda3/envs/learn-env/bin/python -c 'import sys, setuptools, tokenize; sys.argv[0] = '\"'\"'/private/var/folders/w7/5xrqj1dj01z662nqg16cwtc40000gn/T/pip-install-t4vxmyy1/dotenv/setup.py'\"'\"'; __file__='\"'\"'/private/var/folders/w7/5xrqj1dj01z662nqg16cwtc40000gn/T/pip-install-t4vxmyy1/dotenv/setup.py'\"'\"';f=getattr(tokenize, '\"'\"'open'\"'\"', open)(__file__);code=f.read().replace('\"'\"'\\r\\n'\"'\"', '\"'\"'\\n'\"'\"');f.close();exec(compile(code, __file__, '\"'\"'exec'\"'\"'))' egg_info --egg-base pip-egg-info\n",
      "         cwd: /private/var/folders/w7/5xrqj1dj01z662nqg16cwtc40000gn/T/pip-install-t4vxmyy1/dotenv/\n",
      "    Complete output (68 lines):\n",
      "    Traceback (most recent call last):\n",
      "      File \"/Applications/anaconda3/envs/learn-env/lib/python3.6/site-packages/setuptools/sandbox.py\", line 154, in save_modules\n",
      "        yield saved\n",
      "      File \"/Applications/anaconda3/envs/learn-env/lib/python3.6/site-packages/setuptools/sandbox.py\", line 194, in setup_context\n",
      "        __import__('setuptools')\n",
      "      File \"/private/var/folders/w7/5xrqj1dj01z662nqg16cwtc40000gn/T/easy_install-aq_hwrkh/distribute-0.7.3/setuptools/__init__.py\", line 2, in <module>\n",
      "      File \"/private/var/folders/w7/5xrqj1dj01z662nqg16cwtc40000gn/T/easy_install-aq_hwrkh/distribute-0.7.3/setuptools/extension.py\", line 5, in <module>\n",
      "      File \"/private/var/folders/w7/5xrqj1dj01z662nqg16cwtc40000gn/T/easy_install-aq_hwrkh/distribute-0.7.3/setuptools/dist.py\", line 7, in <module>\n",
      "      File \"/private/var/folders/w7/5xrqj1dj01z662nqg16cwtc40000gn/T/easy_install-aq_hwrkh/distribute-0.7.3/setuptools/command/__init__.py\", line 8, in <module>\n",
      "      File \"/private/var/folders/w7/5xrqj1dj01z662nqg16cwtc40000gn/T/easy_install-aq_hwrkh/distribute-0.7.3/setuptools/command/install_scripts.py\", line 3, in <module>\n",
      "      File \"/private/var/folders/w7/5xrqj1dj01z662nqg16cwtc40000gn/T/easy_install-aq_hwrkh/distribute-0.7.3/pkg_resources.py\", line 1518, in <module>\n",
      "    AttributeError: module 'importlib._bootstrap' has no attribute 'SourceFileLoader'\n",
      "    \n",
      "    During handling of the above exception, another exception occurred:\n",
      "    \n",
      "    Traceback (most recent call last):\n",
      "      File \"<string>\", line 1, in <module>\n",
      "      File \"/private/var/folders/w7/5xrqj1dj01z662nqg16cwtc40000gn/T/pip-install-t4vxmyy1/dotenv/setup.py\", line 23, in <module>\n",
      "        scripts=['scripts/dotenv']\n",
      "      File \"/Applications/anaconda3/envs/learn-env/lib/python3.6/site-packages/setuptools/__init__.py\", line 144, in setup\n",
      "        _install_setup_requires(attrs)\n",
      "      File \"/Applications/anaconda3/envs/learn-env/lib/python3.6/site-packages/setuptools/__init__.py\", line 139, in _install_setup_requires\n",
      "        dist.fetch_build_eggs(dist.setup_requires)\n",
      "      File \"/Applications/anaconda3/envs/learn-env/lib/python3.6/site-packages/setuptools/dist.py\", line 719, in fetch_build_eggs\n",
      "        replace_conflicting=True,\n",
      "      File \"/Applications/anaconda3/envs/learn-env/lib/python3.6/site-packages/pkg_resources/__init__.py\", line 782, in resolve\n",
      "        replace_conflicting=replace_conflicting\n",
      "      File \"/Applications/anaconda3/envs/learn-env/lib/python3.6/site-packages/pkg_resources/__init__.py\", line 1065, in best_match\n",
      "        return self.obtain(req, installer)\n",
      "      File \"/Applications/anaconda3/envs/learn-env/lib/python3.6/site-packages/pkg_resources/__init__.py\", line 1077, in obtain\n",
      "        return installer(requirement)\n",
      "      File \"/Applications/anaconda3/envs/learn-env/lib/python3.6/site-packages/setuptools/dist.py\", line 786, in fetch_build_egg\n",
      "        return cmd.easy_install(req)\n",
      "      File \"/Applications/anaconda3/envs/learn-env/lib/python3.6/site-packages/setuptools/command/easy_install.py\", line 679, in easy_install\n",
      "        return self.install_item(spec, dist.location, tmpdir, deps)\n",
      "      File \"/Applications/anaconda3/envs/learn-env/lib/python3.6/site-packages/setuptools/command/easy_install.py\", line 705, in install_item\n",
      "        dists = self.install_eggs(spec, download, tmpdir)\n",
      "      File \"/Applications/anaconda3/envs/learn-env/lib/python3.6/site-packages/setuptools/command/easy_install.py\", line 890, in install_eggs\n",
      "        return self.build_and_install(setup_script, setup_base)\n",
      "      File \"/Applications/anaconda3/envs/learn-env/lib/python3.6/site-packages/setuptools/command/easy_install.py\", line 1158, in build_and_install\n",
      "        self.run_setup(setup_script, setup_base, args)\n",
      "      File \"/Applications/anaconda3/envs/learn-env/lib/python3.6/site-packages/setuptools/command/easy_install.py\", line 1144, in run_setup\n",
      "        run_setup(setup_script, args)\n",
      "      File \"/Applications/anaconda3/envs/learn-env/lib/python3.6/site-packages/setuptools/sandbox.py\", line 233, in run_setup\n",
      "        with setup_context(setup_dir):\n",
      "      File \"/Applications/anaconda3/envs/learn-env/lib/python3.6/contextlib.py\", line 81, in __enter__\n",
      "        return next(self.gen)\n",
      "      File \"/Applications/anaconda3/envs/learn-env/lib/python3.6/site-packages/setuptools/sandbox.py\", line 195, in setup_context\n",
      "        yield\n",
      "      File \"/Applications/anaconda3/envs/learn-env/lib/python3.6/contextlib.py\", line 99, in __exit__\n",
      "        self.gen.throw(type, value, traceback)\n",
      "      File \"/Applications/anaconda3/envs/learn-env/lib/python3.6/site-packages/setuptools/sandbox.py\", line 166, in save_modules\n",
      "        saved_exc.resume()\n",
      "      File \"/Applications/anaconda3/envs/learn-env/lib/python3.6/site-packages/setuptools/sandbox.py\", line 141, in resume\n",
      "        six.reraise(type, exc, self._tb)\n",
      "      File \"/Applications/anaconda3/envs/learn-env/lib/python3.6/site-packages/setuptools/_vendor/six.py\", line 685, in reraise\n",
      "        raise value.with_traceback(tb)\n",
      "      File \"/Applications/anaconda3/envs/learn-env/lib/python3.6/site-packages/setuptools/sandbox.py\", line 154, in save_modules\n",
      "        yield saved\n",
      "      File \"/Applications/anaconda3/envs/learn-env/lib/python3.6/site-packages/setuptools/sandbox.py\", line 194, in setup_context\n",
      "        __import__('setuptools')\n",
      "      File \"/private/var/folders/w7/5xrqj1dj01z662nqg16cwtc40000gn/T/easy_install-aq_hwrkh/distribute-0.7.3/setuptools/__init__.py\", line 2, in <module>\n",
      "      File \"/private/var/folders/w7/5xrqj1dj01z662nqg16cwtc40000gn/T/easy_install-aq_hwrkh/distribute-0.7.3/setuptools/extension.py\", line 5, in <module>\n",
      "      File \"/private/var/folders/w7/5xrqj1dj01z662nqg16cwtc40000gn/T/easy_install-aq_hwrkh/distribute-0.7.3/setuptools/dist.py\", line 7, in <module>\n",
      "      File \"/private/var/folders/w7/5xrqj1dj01z662nqg16cwtc40000gn/T/easy_install-aq_hwrkh/distribute-0.7.3/setuptools/command/__init__.py\", line 8, in <module>\n",
      "      File \"/private/var/folders/w7/5xrqj1dj01z662nqg16cwtc40000gn/T/easy_install-aq_hwrkh/distribute-0.7.3/setuptools/command/install_scripts.py\", line 3, in <module>\n",
      "      File \"/private/var/folders/w7/5xrqj1dj01z662nqg16cwtc40000gn/T/easy_install-aq_hwrkh/distribute-0.7.3/pkg_resources.py\", line 1518, in <module>\n",
      "    AttributeError: module 'importlib._bootstrap' has no attribute 'SourceFileLoader'\n",
      "    ----------------------------------------\u001b[0m\n",
      "\u001b[31mERROR: Command errored out with exit status 1: python setup.py egg_info Check the logs for full command output.\u001b[0m\n"
     ]
    }
   ],
   "source": [
    "!pip install dotenv"
   ]
  },
  {
   "cell_type": "code",
   "execution_count": 2,
   "metadata": {},
   "outputs": [],
   "source": [
    "conn = sqlite3.connect('database.sqlite')\n",
    "cur = conn.cursor()"
   ]
  },
  {
   "cell_type": "markdown",
   "metadata": {},
   "source": [
    "## ***Check the tables inside the database:***"
   ]
  },
  {
   "cell_type": "markdown",
   "metadata": {},
   "source": [
    "https://www.kaggle.com/laudanum/footballdelphi"
   ]
  },
  {
   "cell_type": "code",
   "execution_count": 3,
   "metadata": {},
   "outputs": [
    {
     "name": "stdout",
     "output_type": "stream",
     "text": [
      "['type', 'name', 'tbl_name', 'rootpage', 'sql']\n"
     ]
    },
    {
     "data": {
      "text/html": [
       "<div>\n",
       "<style scoped>\n",
       "    .dataframe tbody tr th:only-of-type {\n",
       "        vertical-align: middle;\n",
       "    }\n",
       "\n",
       "    .dataframe tbody tr th {\n",
       "        vertical-align: top;\n",
       "    }\n",
       "\n",
       "    .dataframe thead th {\n",
       "        text-align: right;\n",
       "    }\n",
       "</style>\n",
       "<table border=\"1\" class=\"dataframe\">\n",
       "  <thead>\n",
       "    <tr style=\"text-align: right;\">\n",
       "      <th></th>\n",
       "      <th>type</th>\n",
       "      <th>tbl_name</th>\n",
       "    </tr>\n",
       "  </thead>\n",
       "  <tbody>\n",
       "    <tr>\n",
       "      <td>0</td>\n",
       "      <td>index</td>\n",
       "      <td>Matches</td>\n",
       "    </tr>\n",
       "    <tr>\n",
       "      <td>1</td>\n",
       "      <td>table</td>\n",
       "      <td>Matches</td>\n",
       "    </tr>\n",
       "    <tr>\n",
       "      <td>2</td>\n",
       "      <td>table</td>\n",
       "      <td>Teams</td>\n",
       "    </tr>\n",
       "    <tr>\n",
       "      <td>3</td>\n",
       "      <td>table</td>\n",
       "      <td>Teams_in_Matches</td>\n",
       "    </tr>\n",
       "    <tr>\n",
       "      <td>4</td>\n",
       "      <td>table</td>\n",
       "      <td>Unique_Teams</td>\n",
       "    </tr>\n",
       "    <tr>\n",
       "      <td>5</td>\n",
       "      <td>table</td>\n",
       "      <td>sqlite_sequence</td>\n",
       "    </tr>\n",
       "    <tr>\n",
       "      <td>6</td>\n",
       "      <td>view</td>\n",
       "      <td>FlatView</td>\n",
       "    </tr>\n",
       "    <tr>\n",
       "      <td>7</td>\n",
       "      <td>view</td>\n",
       "      <td>FlatView_Advanced</td>\n",
       "    </tr>\n",
       "    <tr>\n",
       "      <td>8</td>\n",
       "      <td>view</td>\n",
       "      <td>FlatView_Chrono_TeamOrder_Reduced</td>\n",
       "    </tr>\n",
       "  </tbody>\n",
       "</table>\n",
       "</div>"
      ],
      "text/plain": [
       "    type                           tbl_name\n",
       "0  index                            Matches\n",
       "1  table                            Matches\n",
       "2  table                              Teams\n",
       "3  table                   Teams_in_Matches\n",
       "4  table                       Unique_Teams\n",
       "5  table                    sqlite_sequence\n",
       "6   view                           FlatView\n",
       "7   view                  FlatView_Advanced\n",
       "8   view  FlatView_Chrono_TeamOrder_Reduced"
      ]
     },
     "execution_count": 3,
     "metadata": {},
     "output_type": "execute_result"
    }
   ],
   "source": [
    "print([i[0] for i in cur.execute(\"\"\"SELECT * FROM sqlite_master;\"\"\").description])\n",
    "cur.execute(\"\"\"SELECT type, tbl_name FROM sqlite_master ORDER by type, tbl_name;\"\"\")\n",
    "db = pd.DataFrame(cur.fetchall())\n",
    "db.columns = [i[0] for i in cur.description]\n",
    "db"
   ]
  },
  {
   "cell_type": "markdown",
   "metadata": {},
   "source": [
    "* ***Match_ID (int): unique ID per match***\n",
    "* Div (str): identifies the division the match was played in (D1 = Bundesliga, D2 = Bundesliga 2, E0 = English Premier League)\n",
    "* ***Season (int): Season the match took place in (usually covering the period of August till May of the following year)***\n",
    "* Date (str): Date of the match\n",
    "* ***HomeTeam (str): Name of the home team***\n",
    "* ***AwayTeam (str): Name of the away team***\n",
    "* FTHG (int) (Full Time Home Goals): Number of goals scored by the home team\n",
    "* FTAG (int) (Full Time Away Goals): Number of goals scored by the away team\n",
    "* FTR (str) (Full Time Result): 3-way result of the match (H = Home Win, D = Draw, A = Away Win)"
   ]
  },
  {
   "cell_type": "code",
   "execution_count": 4,
   "metadata": {},
   "outputs": [
    {
     "data": {
      "text/html": [
       "<div>\n",
       "<style scoped>\n",
       "    .dataframe tbody tr th:only-of-type {\n",
       "        vertical-align: middle;\n",
       "    }\n",
       "\n",
       "    .dataframe tbody tr th {\n",
       "        vertical-align: top;\n",
       "    }\n",
       "\n",
       "    .dataframe thead th {\n",
       "        text-align: right;\n",
       "    }\n",
       "</style>\n",
       "<table border=\"1\" class=\"dataframe\">\n",
       "  <thead>\n",
       "    <tr style=\"text-align: right;\">\n",
       "      <th></th>\n",
       "      <th>Match_ID</th>\n",
       "      <th>Div</th>\n",
       "      <th>Season</th>\n",
       "      <th>Date</th>\n",
       "      <th>HomeTeam</th>\n",
       "      <th>AwayTeam</th>\n",
       "      <th>FTHG</th>\n",
       "      <th>FTAG</th>\n",
       "      <th>FTR</th>\n",
       "    </tr>\n",
       "  </thead>\n",
       "  <tbody>\n",
       "    <tr>\n",
       "      <td>0</td>\n",
       "      <td>1092</td>\n",
       "      <td>D1</td>\n",
       "      <td>2011</td>\n",
       "      <td>2012-03-31</td>\n",
       "      <td>Nurnberg</td>\n",
       "      <td>Bayern Munich</td>\n",
       "      <td>0</td>\n",
       "      <td>1</td>\n",
       "      <td>A</td>\n",
       "    </tr>\n",
       "    <tr>\n",
       "      <td>1</td>\n",
       "      <td>1093</td>\n",
       "      <td>D1</td>\n",
       "      <td>2011</td>\n",
       "      <td>2011-12-11</td>\n",
       "      <td>Stuttgart</td>\n",
       "      <td>Bayern Munich</td>\n",
       "      <td>1</td>\n",
       "      <td>2</td>\n",
       "      <td>A</td>\n",
       "    </tr>\n",
       "    <tr>\n",
       "      <td>2</td>\n",
       "      <td>1094</td>\n",
       "      <td>D1</td>\n",
       "      <td>2011</td>\n",
       "      <td>2011-08-13</td>\n",
       "      <td>Wolfsburg</td>\n",
       "      <td>Bayern Munich</td>\n",
       "      <td>0</td>\n",
       "      <td>1</td>\n",
       "      <td>A</td>\n",
       "    </tr>\n",
       "    <tr>\n",
       "      <td>3</td>\n",
       "      <td>1095</td>\n",
       "      <td>D1</td>\n",
       "      <td>2011</td>\n",
       "      <td>2011-11-27</td>\n",
       "      <td>Mainz</td>\n",
       "      <td>Bayern Munich</td>\n",
       "      <td>3</td>\n",
       "      <td>2</td>\n",
       "      <td>H</td>\n",
       "    </tr>\n",
       "    <tr>\n",
       "      <td>4</td>\n",
       "      <td>1096</td>\n",
       "      <td>D1</td>\n",
       "      <td>2011</td>\n",
       "      <td>2012-02-18</td>\n",
       "      <td>Freiburg</td>\n",
       "      <td>Bayern Munich</td>\n",
       "      <td>0</td>\n",
       "      <td>0</td>\n",
       "      <td>D</td>\n",
       "    </tr>\n",
       "    <tr>\n",
       "      <td>...</td>\n",
       "      <td>...</td>\n",
       "      <td>...</td>\n",
       "      <td>...</td>\n",
       "      <td>...</td>\n",
       "      <td>...</td>\n",
       "      <td>...</td>\n",
       "      <td>...</td>\n",
       "      <td>...</td>\n",
       "      <td>...</td>\n",
       "    </tr>\n",
       "    <tr>\n",
       "      <td>607</td>\n",
       "      <td>1699</td>\n",
       "      <td>D2</td>\n",
       "      <td>2011</td>\n",
       "      <td>2011-07-24</td>\n",
       "      <td>Paderborn</td>\n",
       "      <td>Fortuna Dusseldorf</td>\n",
       "      <td>1</td>\n",
       "      <td>1</td>\n",
       "      <td>D</td>\n",
       "    </tr>\n",
       "    <tr>\n",
       "      <td>608</td>\n",
       "      <td>1700</td>\n",
       "      <td>D2</td>\n",
       "      <td>2011</td>\n",
       "      <td>2011-12-10</td>\n",
       "      <td>Bochum</td>\n",
       "      <td>Fortuna Dusseldorf</td>\n",
       "      <td>1</td>\n",
       "      <td>1</td>\n",
       "      <td>D</td>\n",
       "    </tr>\n",
       "    <tr>\n",
       "      <td>609</td>\n",
       "      <td>1701</td>\n",
       "      <td>D2</td>\n",
       "      <td>2011</td>\n",
       "      <td>2011-08-15</td>\n",
       "      <td>Ein Frankfurt</td>\n",
       "      <td>Fortuna Dusseldorf</td>\n",
       "      <td>1</td>\n",
       "      <td>1</td>\n",
       "      <td>D</td>\n",
       "    </tr>\n",
       "    <tr>\n",
       "      <td>610</td>\n",
       "      <td>1702</td>\n",
       "      <td>D2</td>\n",
       "      <td>2011</td>\n",
       "      <td>2011-08-27</td>\n",
       "      <td>Aachen</td>\n",
       "      <td>Fortuna Dusseldorf</td>\n",
       "      <td>0</td>\n",
       "      <td>0</td>\n",
       "      <td>D</td>\n",
       "    </tr>\n",
       "    <tr>\n",
       "      <td>611</td>\n",
       "      <td>1703</td>\n",
       "      <td>D2</td>\n",
       "      <td>2011</td>\n",
       "      <td>2011-09-16</td>\n",
       "      <td>Erzgebirge Aue</td>\n",
       "      <td>Fortuna Dusseldorf</td>\n",
       "      <td>2</td>\n",
       "      <td>4</td>\n",
       "      <td>A</td>\n",
       "    </tr>\n",
       "  </tbody>\n",
       "</table>\n",
       "<p>612 rows × 9 columns</p>\n",
       "</div>"
      ],
      "text/plain": [
       "     Match_ID Div  Season        Date        HomeTeam            AwayTeam  \\\n",
       "0        1092  D1    2011  2012-03-31        Nurnberg       Bayern Munich   \n",
       "1        1093  D1    2011  2011-12-11       Stuttgart       Bayern Munich   \n",
       "2        1094  D1    2011  2011-08-13       Wolfsburg       Bayern Munich   \n",
       "3        1095  D1    2011  2011-11-27           Mainz       Bayern Munich   \n",
       "4        1096  D1    2011  2012-02-18        Freiburg       Bayern Munich   \n",
       "..        ...  ..     ...         ...             ...                 ...   \n",
       "607      1699  D2    2011  2011-07-24       Paderborn  Fortuna Dusseldorf   \n",
       "608      1700  D2    2011  2011-12-10          Bochum  Fortuna Dusseldorf   \n",
       "609      1701  D2    2011  2011-08-15   Ein Frankfurt  Fortuna Dusseldorf   \n",
       "610      1702  D2    2011  2011-08-27          Aachen  Fortuna Dusseldorf   \n",
       "611      1703  D2    2011  2011-09-16  Erzgebirge Aue  Fortuna Dusseldorf   \n",
       "\n",
       "     FTHG  FTAG FTR  \n",
       "0       0     1   A  \n",
       "1       1     2   A  \n",
       "2       0     1   A  \n",
       "3       3     2   H  \n",
       "4       0     0   D  \n",
       "..    ...   ...  ..  \n",
       "607     1     1   D  \n",
       "608     1     1   D  \n",
       "609     1     1   D  \n",
       "610     0     0   D  \n",
       "611     2     4   A  \n",
       "\n",
       "[612 rows x 9 columns]"
      ]
     },
     "execution_count": 4,
     "metadata": {},
     "output_type": "execute_result"
    }
   ],
   "source": [
    "cur.execute(\"\"\"SELECT * FROM Matches WHERE Season = 2011 and (Div = \"D1\" or Div = \"D2\");\"\"\")\n",
    "df_2011 = pd.DataFrame(cur.fetchall())\n",
    "df_2011.columns = [i[0] for i in cur.description]\n",
    "df_2011"
   ]
  },
  {
   "cell_type": "code",
   "execution_count": 5,
   "metadata": {},
   "outputs": [
    {
     "data": {
      "text/plain": [
       "False    612\n",
       "dtype: int64"
      ]
     },
     "execution_count": 5,
     "metadata": {},
     "output_type": "execute_result"
    }
   ],
   "source": [
    "df_2011.duplicated(\"Match_ID\").value_counts()"
   ]
  },
  {
   "cell_type": "markdown",
   "metadata": {},
   "source": [
    "* ***Season (str): Football season for which the data is valid***   \n",
    "* ***TeamName (str): Name of the team the data concerns***    \n",
    "* KaderHome (str): Number of Players in the squad\n",
    "* AvgAgeHome (str): Average age of players\n",
    "* ForeignPlayersHome (str): Number of foreign players (non-German, non-English respectively) playing for the team\n",
    "* OverallMarketValueHome (str): Overall market value of the team pre-season in EUR (based on data from transfermarkt.de)\n",
    "* AvgMarketValueHome (str): Average market value (per player) of the team pre-season in EUR (based on data from transfermarkt.de)\n",
    "* StadiumCapacity (str): Maximum stadium capacity of the team's home stadium"
   ]
  },
  {
   "cell_type": "code",
   "execution_count": 6,
   "metadata": {},
   "outputs": [
    {
     "data": {
      "text/html": [
       "<div>\n",
       "<style scoped>\n",
       "    .dataframe tbody tr th:only-of-type {\n",
       "        vertical-align: middle;\n",
       "    }\n",
       "\n",
       "    .dataframe tbody tr th {\n",
       "        vertical-align: top;\n",
       "    }\n",
       "\n",
       "    .dataframe thead th {\n",
       "        text-align: right;\n",
       "    }\n",
       "</style>\n",
       "<table border=\"1\" class=\"dataframe\">\n",
       "  <thead>\n",
       "    <tr style=\"text-align: right;\">\n",
       "      <th></th>\n",
       "      <th>Season</th>\n",
       "      <th>TeamName</th>\n",
       "      <th>KaderHome</th>\n",
       "      <th>AvgAgeHome</th>\n",
       "      <th>ForeignPlayersHome</th>\n",
       "      <th>OverallMarketValueHome</th>\n",
       "      <th>AvgMarketValueHome</th>\n",
       "      <th>StadiumCapacity</th>\n",
       "    </tr>\n",
       "  </thead>\n",
       "  <tbody>\n",
       "    <tr>\n",
       "      <td>0</td>\n",
       "      <td>2017</td>\n",
       "      <td>Bayern Munich</td>\n",
       "      <td>27</td>\n",
       "      <td>26</td>\n",
       "      <td>15</td>\n",
       "      <td>597950000</td>\n",
       "      <td>22150000</td>\n",
       "      <td>75000</td>\n",
       "    </tr>\n",
       "    <tr>\n",
       "      <td>1</td>\n",
       "      <td>2017</td>\n",
       "      <td>Dortmund</td>\n",
       "      <td>33</td>\n",
       "      <td>25</td>\n",
       "      <td>18</td>\n",
       "      <td>416730000</td>\n",
       "      <td>12630000</td>\n",
       "      <td>81359</td>\n",
       "    </tr>\n",
       "    <tr>\n",
       "      <td>2</td>\n",
       "      <td>2017</td>\n",
       "      <td>Leverkusen</td>\n",
       "      <td>31</td>\n",
       "      <td>24</td>\n",
       "      <td>15</td>\n",
       "      <td>222600000</td>\n",
       "      <td>7180000</td>\n",
       "      <td>30210</td>\n",
       "    </tr>\n",
       "    <tr>\n",
       "      <td>3</td>\n",
       "      <td>2017</td>\n",
       "      <td>RB Leipzig</td>\n",
       "      <td>30</td>\n",
       "      <td>23</td>\n",
       "      <td>15</td>\n",
       "      <td>180130000</td>\n",
       "      <td>6000000</td>\n",
       "      <td>42959</td>\n",
       "    </tr>\n",
       "    <tr>\n",
       "      <td>4</td>\n",
       "      <td>2017</td>\n",
       "      <td>Schalke 04</td>\n",
       "      <td>29</td>\n",
       "      <td>24</td>\n",
       "      <td>17</td>\n",
       "      <td>179550000</td>\n",
       "      <td>6190000</td>\n",
       "      <td>62271</td>\n",
       "    </tr>\n",
       "  </tbody>\n",
       "</table>\n",
       "</div>"
      ],
      "text/plain": [
       "  Season       TeamName KaderHome AvgAgeHome ForeignPlayersHome  \\\n",
       "0   2017  Bayern Munich        27         26                 15   \n",
       "1   2017       Dortmund        33         25                 18   \n",
       "2   2017     Leverkusen        31         24                 15   \n",
       "3   2017     RB Leipzig        30         23                 15   \n",
       "4   2017     Schalke 04        29         24                 17   \n",
       "\n",
       "  OverallMarketValueHome AvgMarketValueHome StadiumCapacity  \n",
       "0              597950000           22150000           75000  \n",
       "1              416730000           12630000           81359  \n",
       "2              222600000            7180000           30210  \n",
       "3              180130000            6000000           42959  \n",
       "4              179550000            6190000           62271  "
      ]
     },
     "execution_count": 6,
     "metadata": {},
     "output_type": "execute_result"
    }
   ],
   "source": [
    "cur.execute(\"\"\"SELECT * FROM Teams;\"\"\")\n",
    "df_tl = pd.DataFrame(cur.fetchall())\n",
    "df_tl.columns = [i[0] for i in cur.description]\n",
    "df_tl.head()"
   ]
  },
  {
   "cell_type": "markdown",
   "metadata": {},
   "source": [
    "* ***Match_ID (int): Unique match ID***  \n",
    "* ***Unique_Team_ID (int): Unique team ID (This table is used to easily retrieve each match a given team has played in)***"
   ]
  },
  {
   "cell_type": "code",
   "execution_count": 7,
   "metadata": {
    "scrolled": true
   },
   "outputs": [
    {
     "data": {
      "text/html": [
       "<div>\n",
       "<style scoped>\n",
       "    .dataframe tbody tr th:only-of-type {\n",
       "        vertical-align: middle;\n",
       "    }\n",
       "\n",
       "    .dataframe tbody tr th {\n",
       "        vertical-align: top;\n",
       "    }\n",
       "\n",
       "    .dataframe thead th {\n",
       "        text-align: right;\n",
       "    }\n",
       "</style>\n",
       "<table border=\"1\" class=\"dataframe\">\n",
       "  <thead>\n",
       "    <tr style=\"text-align: right;\">\n",
       "      <th></th>\n",
       "      <th>Match_ID</th>\n",
       "      <th>Unique_Team_ID</th>\n",
       "    </tr>\n",
       "  </thead>\n",
       "  <tbody>\n",
       "    <tr>\n",
       "      <td>0</td>\n",
       "      <td>1</td>\n",
       "      <td>26</td>\n",
       "    </tr>\n",
       "    <tr>\n",
       "      <td>1</td>\n",
       "      <td>1</td>\n",
       "      <td>46</td>\n",
       "    </tr>\n",
       "    <tr>\n",
       "      <td>2</td>\n",
       "      <td>2</td>\n",
       "      <td>26</td>\n",
       "    </tr>\n",
       "    <tr>\n",
       "      <td>3</td>\n",
       "      <td>2</td>\n",
       "      <td>42</td>\n",
       "    </tr>\n",
       "    <tr>\n",
       "      <td>4</td>\n",
       "      <td>3</td>\n",
       "      <td>26</td>\n",
       "    </tr>\n",
       "  </tbody>\n",
       "</table>\n",
       "</div>"
      ],
      "text/plain": [
       "   Match_ID  Unique_Team_ID\n",
       "0         1              26\n",
       "1         1              46\n",
       "2         2              26\n",
       "3         2              42\n",
       "4         3              26"
      ]
     },
     "execution_count": 7,
     "metadata": {},
     "output_type": "execute_result"
    }
   ],
   "source": [
    "cur.execute(\"\"\"SELECT * FROM Teams_in_Matches;\"\"\")\n",
    "df_tm = pd.DataFrame(cur.fetchall())\n",
    "df_tm.columns = [i[0] for i in cur.description]\n",
    "df_tm.head()"
   ]
  },
  {
   "cell_type": "markdown",
   "metadata": {},
   "source": [
    "* ***TeamName (str): Name of a team***  \n",
    "* ***Unique_Team_ID (int): Unique identifier for each team***"
   ]
  },
  {
   "cell_type": "code",
   "execution_count": 8,
   "metadata": {},
   "outputs": [
    {
     "data": {
      "text/html": [
       "<div>\n",
       "<style scoped>\n",
       "    .dataframe tbody tr th:only-of-type {\n",
       "        vertical-align: middle;\n",
       "    }\n",
       "\n",
       "    .dataframe tbody tr th {\n",
       "        vertical-align: top;\n",
       "    }\n",
       "\n",
       "    .dataframe thead th {\n",
       "        text-align: right;\n",
       "    }\n",
       "</style>\n",
       "<table border=\"1\" class=\"dataframe\">\n",
       "  <thead>\n",
       "    <tr style=\"text-align: right;\">\n",
       "      <th></th>\n",
       "      <th>TeamName</th>\n",
       "      <th>Unique_Team_ID</th>\n",
       "    </tr>\n",
       "  </thead>\n",
       "  <tbody>\n",
       "    <tr>\n",
       "      <td>0</td>\n",
       "      <td>Bayern Munich</td>\n",
       "      <td>1</td>\n",
       "    </tr>\n",
       "    <tr>\n",
       "      <td>1</td>\n",
       "      <td>Dortmund</td>\n",
       "      <td>2</td>\n",
       "    </tr>\n",
       "    <tr>\n",
       "      <td>2</td>\n",
       "      <td>Leverkusen</td>\n",
       "      <td>3</td>\n",
       "    </tr>\n",
       "    <tr>\n",
       "      <td>3</td>\n",
       "      <td>RB Leipzig</td>\n",
       "      <td>4</td>\n",
       "    </tr>\n",
       "    <tr>\n",
       "      <td>4</td>\n",
       "      <td>Schalke 04</td>\n",
       "      <td>5</td>\n",
       "    </tr>\n",
       "  </tbody>\n",
       "</table>\n",
       "</div>"
      ],
      "text/plain": [
       "        TeamName  Unique_Team_ID\n",
       "0  Bayern Munich               1\n",
       "1       Dortmund               2\n",
       "2     Leverkusen               3\n",
       "3     RB Leipzig               4\n",
       "4     Schalke 04               5"
      ]
     },
     "execution_count": 8,
     "metadata": {},
     "output_type": "execute_result"
    }
   ],
   "source": [
    "cur.execute(\"\"\"SELECT * FROM Unique_Teams;\"\"\")\n",
    "df_ut = pd.DataFrame(cur.fetchall())\n",
    "df_ut.columns = [i[0] for i in cur.description]\n",
    "df_ut.head()"
   ]
  },
  {
   "cell_type": "markdown",
   "metadata": {},
   "source": [
    "## *** Answers:"
   ]
  },
  {
   "cell_type": "code",
   "execution_count": 9,
   "metadata": {},
   "outputs": [],
   "source": [
    "#The name of the team\n",
    "\n",
    "q = \"\"\"SELECT Unique_Team_ID as Team_ID, TeamName FROM df_ut\"\"\"\n",
    "df_names = pysqldf(q)"
   ]
  },
  {
   "cell_type": "markdown",
   "metadata": {},
   "source": [
    "### The name of the team"
   ]
  },
  {
   "cell_type": "code",
   "execution_count": 10,
   "metadata": {
    "scrolled": true
   },
   "outputs": [
    {
     "data": {
      "text/html": [
       "<div>\n",
       "<style scoped>\n",
       "    .dataframe tbody tr th:only-of-type {\n",
       "        vertical-align: middle;\n",
       "    }\n",
       "\n",
       "    .dataframe tbody tr th {\n",
       "        vertical-align: top;\n",
       "    }\n",
       "\n",
       "    .dataframe thead th {\n",
       "        text-align: right;\n",
       "    }\n",
       "</style>\n",
       "<table border=\"1\" class=\"dataframe\">\n",
       "  <thead>\n",
       "    <tr style=\"text-align: right;\">\n",
       "      <th></th>\n",
       "      <th>Team_ID</th>\n",
       "      <th>TeamName</th>\n",
       "    </tr>\n",
       "  </thead>\n",
       "  <tbody>\n",
       "    <tr>\n",
       "      <td>0</td>\n",
       "      <td>1</td>\n",
       "      <td>Bayern Munich</td>\n",
       "    </tr>\n",
       "    <tr>\n",
       "      <td>1</td>\n",
       "      <td>2</td>\n",
       "      <td>Dortmund</td>\n",
       "    </tr>\n",
       "    <tr>\n",
       "      <td>2</td>\n",
       "      <td>3</td>\n",
       "      <td>Leverkusen</td>\n",
       "    </tr>\n",
       "    <tr>\n",
       "      <td>3</td>\n",
       "      <td>4</td>\n",
       "      <td>RB Leipzig</td>\n",
       "    </tr>\n",
       "    <tr>\n",
       "      <td>4</td>\n",
       "      <td>5</td>\n",
       "      <td>Schalke 04</td>\n",
       "    </tr>\n",
       "    <tr>\n",
       "      <td>...</td>\n",
       "      <td>...</td>\n",
       "      <td>...</td>\n",
       "    </tr>\n",
       "    <tr>\n",
       "      <td>123</td>\n",
       "      <td>124</td>\n",
       "      <td>Burnley</td>\n",
       "    </tr>\n",
       "    <tr>\n",
       "      <td>124</td>\n",
       "      <td>125</td>\n",
       "      <td>Blackpool</td>\n",
       "    </tr>\n",
       "    <tr>\n",
       "      <td>125</td>\n",
       "      <td>126</td>\n",
       "      <td>Swansea</td>\n",
       "    </tr>\n",
       "    <tr>\n",
       "      <td>126</td>\n",
       "      <td>127</td>\n",
       "      <td>Cardiff</td>\n",
       "    </tr>\n",
       "    <tr>\n",
       "      <td>127</td>\n",
       "      <td>128</td>\n",
       "      <td>Bournemouth</td>\n",
       "    </tr>\n",
       "  </tbody>\n",
       "</table>\n",
       "<p>128 rows × 2 columns</p>\n",
       "</div>"
      ],
      "text/plain": [
       "     Team_ID       TeamName\n",
       "0          1  Bayern Munich\n",
       "1          2       Dortmund\n",
       "2          3     Leverkusen\n",
       "3          4     RB Leipzig\n",
       "4          5     Schalke 04\n",
       "..       ...            ...\n",
       "123      124        Burnley\n",
       "124      125      Blackpool\n",
       "125      126        Swansea\n",
       "126      127        Cardiff\n",
       "127      128    Bournemouth\n",
       "\n",
       "[128 rows x 2 columns]"
      ]
     },
     "execution_count": 10,
     "metadata": {},
     "output_type": "execute_result"
    }
   ],
   "source": [
    "df_names"
   ]
  },
  {
   "cell_type": "code",
   "execution_count": 11,
   "metadata": {
    "scrolled": true
   },
   "outputs": [
    {
     "name": "stdout",
     "output_type": "stream",
     "text": [
      "            Team  HG\n",
      "0         Aachen  15\n",
      "1       Augsburg  20\n",
      "2  Bayern Munich  49\n",
      "3         Bochum  23\n",
      "4   Braunschweig  21\n",
      "(36, 2)\n",
      "            Team  AG\n",
      "0         Aachen  15\n",
      "1       Augsburg  16\n",
      "2  Bayern Munich  28\n",
      "3         Bochum  18\n",
      "4   Braunschweig  16\n",
      "(36, 2)\n"
     ]
    }
   ],
   "source": [
    "#The total number of goals scored by the team during the 2011 season\n",
    "\n",
    "q1 = \"\"\"SELECT HomeTeam as Team, sum(FTHG) as HG FROM df_2011 GROUP by Team;\"\"\"\n",
    "df_home = pysqldf(q1)\n",
    "print(df_home.head())\n",
    "print(df_home.shape)\n",
    "\n",
    "q2 = \"\"\"SELECT AwayTeam as Team, sum(FTAG) as AG FROM df_2011 GROUP by Team;\"\"\"\n",
    "df_away = pysqldf(q2)\n",
    "print(df_away.head())\n",
    "print(df_away.shape)\n",
    "\n",
    "q3 = \"\"\"SELECT Team, (h.HG + a.AG) as Total_2011_Goals \n",
    "        FROM df_home as h\n",
    "        JOIN df_away as a\n",
    "        USING (Team)\n",
    "        GROUP by Team;\"\"\"\n",
    "\n",
    "df_goals = pysqldf(q3)"
   ]
  },
  {
   "cell_type": "markdown",
   "metadata": {},
   "source": [
    "### The total number of goals scored by the team during the 2011 season"
   ]
  },
  {
   "cell_type": "code",
   "execution_count": 12,
   "metadata": {},
   "outputs": [
    {
     "data": {
      "text/html": [
       "<div>\n",
       "<style scoped>\n",
       "    .dataframe tbody tr th:only-of-type {\n",
       "        vertical-align: middle;\n",
       "    }\n",
       "\n",
       "    .dataframe tbody tr th {\n",
       "        vertical-align: top;\n",
       "    }\n",
       "\n",
       "    .dataframe thead th {\n",
       "        text-align: right;\n",
       "    }\n",
       "</style>\n",
       "<table border=\"1\" class=\"dataframe\">\n",
       "  <thead>\n",
       "    <tr style=\"text-align: right;\">\n",
       "      <th></th>\n",
       "      <th>Team</th>\n",
       "      <th>Total_2011_Goals</th>\n",
       "    </tr>\n",
       "  </thead>\n",
       "  <tbody>\n",
       "    <tr>\n",
       "      <td>0</td>\n",
       "      <td>Aachen</td>\n",
       "      <td>30</td>\n",
       "    </tr>\n",
       "    <tr>\n",
       "      <td>1</td>\n",
       "      <td>Augsburg</td>\n",
       "      <td>36</td>\n",
       "    </tr>\n",
       "    <tr>\n",
       "      <td>2</td>\n",
       "      <td>Bayern Munich</td>\n",
       "      <td>77</td>\n",
       "    </tr>\n",
       "    <tr>\n",
       "      <td>3</td>\n",
       "      <td>Bochum</td>\n",
       "      <td>41</td>\n",
       "    </tr>\n",
       "    <tr>\n",
       "      <td>4</td>\n",
       "      <td>Braunschweig</td>\n",
       "      <td>37</td>\n",
       "    </tr>\n",
       "  </tbody>\n",
       "</table>\n",
       "</div>"
      ],
      "text/plain": [
       "            Team  Total_2011_Goals\n",
       "0         Aachen                30\n",
       "1       Augsburg                36\n",
       "2  Bayern Munich                77\n",
       "3         Bochum                41\n",
       "4   Braunschweig                37"
      ]
     },
     "execution_count": 12,
     "metadata": {},
     "output_type": "execute_result"
    }
   ],
   "source": [
    "df_goals.head()"
   ]
  },
  {
   "cell_type": "code",
   "execution_count": 13,
   "metadata": {},
   "outputs": [
    {
     "name": "stdout",
     "output_type": "stream",
     "text": [
      "            Team  Wins\n",
      "0         Aachen     4\n",
      "1       Augsburg     6\n",
      "2  Bayern Munich    14\n",
      "3         Bochum     7\n",
      "4   Braunschweig     6\n",
      "(36, 2)\n",
      "            Team  Wins\n",
      "0         Aachen     2\n",
      "1       Augsburg     2\n",
      "2  Bayern Munich     9\n",
      "3         Bochum     3\n",
      "4   Braunschweig     4\n",
      "(36, 2)\n"
     ]
    }
   ],
   "source": [
    "#The total number of wins the team earned during the 2011 season\n",
    "\n",
    "q1 = \"\"\"SELECT HomeTeam as Team, count(FTR) as Wins FROM df_2011 WHERE FTR = 'H' GROUP by Team;\"\"\"\n",
    "df_home2 = pysqldf(q1)\n",
    "print(df_home2.head())\n",
    "print(df_home2.shape)\n",
    "\n",
    "q2 = \"\"\"SELECT AwayTeam as Team, count(FTR) as Wins FROM df_2011 WHERE FTR = 'A' GROUP by Team;\"\"\"\n",
    "df_away2 = pysqldf(q2)\n",
    "print(df_away2.head())\n",
    "print(df_away2.shape)\n",
    "\n",
    "q3 = \"\"\"SELECT Team, (h.Wins + a.Wins) as Total_2011_Wins\n",
    "        FROM df_home2 as h\n",
    "        JOIN df_away2 as a\n",
    "        USING (Team)\n",
    "        GROUP by Team;\"\"\"\n",
    "df_wins = pysqldf(q3)"
   ]
  },
  {
   "cell_type": "markdown",
   "metadata": {},
   "source": [
    "### The total number of wins the team earned during the 2011 season"
   ]
  },
  {
   "cell_type": "code",
   "execution_count": 14,
   "metadata": {},
   "outputs": [
    {
     "data": {
      "text/html": [
       "<div>\n",
       "<style scoped>\n",
       "    .dataframe tbody tr th:only-of-type {\n",
       "        vertical-align: middle;\n",
       "    }\n",
       "\n",
       "    .dataframe tbody tr th {\n",
       "        vertical-align: top;\n",
       "    }\n",
       "\n",
       "    .dataframe thead th {\n",
       "        text-align: right;\n",
       "    }\n",
       "</style>\n",
       "<table border=\"1\" class=\"dataframe\">\n",
       "  <thead>\n",
       "    <tr style=\"text-align: right;\">\n",
       "      <th></th>\n",
       "      <th>Team</th>\n",
       "      <th>Total_2011_Wins</th>\n",
       "    </tr>\n",
       "  </thead>\n",
       "  <tbody>\n",
       "    <tr>\n",
       "      <td>0</td>\n",
       "      <td>Aachen</td>\n",
       "      <td>6</td>\n",
       "    </tr>\n",
       "    <tr>\n",
       "      <td>1</td>\n",
       "      <td>Augsburg</td>\n",
       "      <td>8</td>\n",
       "    </tr>\n",
       "    <tr>\n",
       "      <td>2</td>\n",
       "      <td>Bayern Munich</td>\n",
       "      <td>23</td>\n",
       "    </tr>\n",
       "    <tr>\n",
       "      <td>3</td>\n",
       "      <td>Bochum</td>\n",
       "      <td>10</td>\n",
       "    </tr>\n",
       "    <tr>\n",
       "      <td>4</td>\n",
       "      <td>Braunschweig</td>\n",
       "      <td>10</td>\n",
       "    </tr>\n",
       "  </tbody>\n",
       "</table>\n",
       "</div>"
      ],
      "text/plain": [
       "            Team  Total_2011_Wins\n",
       "0         Aachen                6\n",
       "1       Augsburg                8\n",
       "2  Bayern Munich               23\n",
       "3         Bochum               10\n",
       "4   Braunschweig               10"
      ]
     },
     "execution_count": 14,
     "metadata": {},
     "output_type": "execute_result"
    }
   ],
   "source": [
    "df_wins.head()"
   ]
  },
  {
   "cell_type": "code",
   "execution_count": 15,
   "metadata": {},
   "outputs": [
    {
     "name": "stdout",
     "output_type": "stream",
     "text": [
      "            Team  Home_Wins\n",
      "0         Aachen          4\n",
      "1       Augsburg          6\n",
      "2  Bayern Munich         14\n",
      "3         Bochum          7\n",
      "4   Braunschweig          6\n",
      "(36, 2)\n",
      "            Team  Home_Losses\n",
      "0         Aachen            7\n",
      "1       Augsburg            4\n",
      "2  Bayern Munich            2\n",
      "3         Bochum            7\n",
      "4   Braunschweig            3\n",
      "(35, 2)\n",
      "            Team  Home_Wins  Home_Losses\n",
      "0         Aachen          4            7\n",
      "1       Augsburg          6            4\n",
      "2  Bayern Munich         14            2\n",
      "3         Bochum          7            7\n",
      "4   Braunschweig          6            3\n",
      "(36, 3)\n"
     ]
    }
   ],
   "source": [
    "q1 = \"\"\"SELECT HomeTeam as Team, count(FTR) as Home_Wins FROM df_2011 WHERE FTR = 'H' GROUP by Team;\"\"\"\n",
    "df_homewins = pysqldf(q1)\n",
    "print(df_homewins.head())\n",
    "print(df_homewins.shape)\n",
    "\n",
    "q2 = \"\"\"SELECT HomeTeam as Team, count(FTR) as Home_Losses FROM df_2011 WHERE FTR = 'A' GROUP by Team;\"\"\"\n",
    "df_homelosses = pysqldf(q2)\n",
    "print(df_homelosses.head())\n",
    "print(df_homelosses.shape)\n",
    "\n",
    "\n",
    "df_homestats = pd.merge(df_homewins, df_homelosses, how = \"left\", on = \"Team\")\n",
    "df_homestats.fillna(value = 0, inplace = True)\n",
    "df_homestats = df_homestats.astype({\"Home_Losses\": \"int64\"})\n",
    "print(df_homestats.head())\n",
    "print(df_homestats.shape)"
   ]
  },
  {
   "cell_type": "code",
   "execution_count": 16,
   "metadata": {},
   "outputs": [
    {
     "name": "stdout",
     "output_type": "stream",
     "text": [
      "            Team  Away_Wins\n",
      "0         Aachen          2\n",
      "1       Augsburg          2\n",
      "2  Bayern Munich          9\n",
      "3         Bochum          3\n",
      "4   Braunschweig          4\n",
      "(36, 2)\n",
      "            Team  Away_Losses\n",
      "0         Aachen            8\n",
      "1       Augsburg            8\n",
      "2  Bayern Munich            5\n",
      "3         Bochum           10\n",
      "4   Braunschweig            6\n",
      "(36, 2)\n",
      "            Team  Away_Wins  Away_Losses\n",
      "0         Aachen          2            8\n",
      "1       Augsburg          2            8\n",
      "2  Bayern Munich          9            5\n",
      "3         Bochum          3           10\n",
      "4   Braunschweig          4            6\n",
      "(36, 3)\n"
     ]
    }
   ],
   "source": [
    "q3 = \"\"\"SELECT AwayTeam as Team, count(FTR) as Away_Wins FROM df_2011 WHERE FTR = 'A' GROUP by Team;\"\"\"\n",
    "df_awaywins = pysqldf(q3)\n",
    "print(df_awaywins.head())\n",
    "print(df_awaywins.shape)\n",
    "\n",
    "q4 = \"\"\"SELECT AwayTeam as Team, count(FTR) as Away_Losses FROM df_2011 WHERE FTR = 'H' GROUP by Team;\"\"\"\n",
    "df_awaylosses = pysqldf(q4)\n",
    "print(df_awaylosses.head())\n",
    "print(df_awaylosses.shape)\n",
    "\n",
    "\n",
    "df_awaystats = pd.merge(df_awaywins, df_awaylosses, on = \"Team\")\n",
    "print(df_awaystats.head())\n",
    "print(df_awaystats.shape)"
   ]
  },
  {
   "cell_type": "code",
   "execution_count": 17,
   "metadata": {},
   "outputs": [
    {
     "data": {
      "text/html": [
       "<div>\n",
       "<style scoped>\n",
       "    .dataframe tbody tr th:only-of-type {\n",
       "        vertical-align: middle;\n",
       "    }\n",
       "\n",
       "    .dataframe tbody tr th {\n",
       "        vertical-align: top;\n",
       "    }\n",
       "\n",
       "    .dataframe thead th {\n",
       "        text-align: right;\n",
       "    }\n",
       "</style>\n",
       "<table border=\"1\" class=\"dataframe\">\n",
       "  <thead>\n",
       "    <tr style=\"text-align: right;\">\n",
       "      <th></th>\n",
       "      <th>Team</th>\n",
       "      <th>Home_Wins</th>\n",
       "      <th>Home_Losses</th>\n",
       "      <th>Away_Wins</th>\n",
       "      <th>Away_Losses</th>\n",
       "    </tr>\n",
       "  </thead>\n",
       "  <tbody>\n",
       "    <tr>\n",
       "      <td>0</td>\n",
       "      <td>Aachen</td>\n",
       "      <td>4</td>\n",
       "      <td>7</td>\n",
       "      <td>2</td>\n",
       "      <td>8</td>\n",
       "    </tr>\n",
       "    <tr>\n",
       "      <td>1</td>\n",
       "      <td>Augsburg</td>\n",
       "      <td>6</td>\n",
       "      <td>4</td>\n",
       "      <td>2</td>\n",
       "      <td>8</td>\n",
       "    </tr>\n",
       "    <tr>\n",
       "      <td>2</td>\n",
       "      <td>Bayern Munich</td>\n",
       "      <td>14</td>\n",
       "      <td>2</td>\n",
       "      <td>9</td>\n",
       "      <td>5</td>\n",
       "    </tr>\n",
       "    <tr>\n",
       "      <td>3</td>\n",
       "      <td>Bochum</td>\n",
       "      <td>7</td>\n",
       "      <td>7</td>\n",
       "      <td>3</td>\n",
       "      <td>10</td>\n",
       "    </tr>\n",
       "    <tr>\n",
       "      <td>4</td>\n",
       "      <td>Braunschweig</td>\n",
       "      <td>6</td>\n",
       "      <td>3</td>\n",
       "      <td>4</td>\n",
       "      <td>6</td>\n",
       "    </tr>\n",
       "  </tbody>\n",
       "</table>\n",
       "</div>"
      ],
      "text/plain": [
       "            Team  Home_Wins  Home_Losses  Away_Wins  Away_Losses\n",
       "0         Aachen          4            7          2            8\n",
       "1       Augsburg          6            4          2            8\n",
       "2  Bayern Munich         14            2          9            5\n",
       "3         Bochum          7            7          3           10\n",
       "4   Braunschweig          6            3          4            6"
      ]
     },
     "execution_count": 17,
     "metadata": {},
     "output_type": "execute_result"
    }
   ],
   "source": [
    "df_stats = pd.merge(df_homestats, df_awaystats, on = \"Team\")\n",
    "df_stats.head()"
   ]
  },
  {
   "cell_type": "code",
   "execution_count": 193,
   "metadata": {
    "scrolled": true
   },
   "outputs": [],
   "source": [
    "df_stats[\"Total_Wins\"] = df_stats[\"Home_Wins\"] + df_stats[\"Away_Wins\"]\n",
    "df_stats[\"Total_Losses\"] = df_stats[\"Home_Losses\"] + df_stats[\"Away_Losses\"]\n",
    "df_stats.sort_values(\"Total_Wins\", inplace= True)"
   ]
  },
  {
   "cell_type": "markdown",
   "metadata": {},
   "source": [
    "### A histogram visualization of the team's wins and losses for the 2011 season (store the visualization directly)"
   ]
  },
  {
   "cell_type": "code",
   "execution_count": 194,
   "metadata": {},
   "outputs": [
    {
     "data": {
      "image/png": "[encoded data removed]",
      "text/plain": [
       "<Figure size 1440x1440 with 1 Axes>"
      ]
     },
     "metadata": {
      "needs_background": "light"
     },
     "output_type": "display_data"
    }
   ],
   "source": [
    "df_stats[[\"Team\", \"Total_Wins\", \"Total_Losses\"]].plot(x = \"Team\", kind = \"barh\", stacked = \"True\", figsize = [20,20])\n",
    "plt.show()"
   ]
  },
  {
   "cell_type": "markdown",
   "metadata": {},
   "source": [
    "### The team's win percentage on days where it was raining during games in the 2011 season."
   ]
  },
  {
   "cell_type": "code",
   "execution_count": 143,
   "metadata": {},
   "outputs": [
    {
     "data": {
      "text/html": [
       "<div>\n",
       "<style scoped>\n",
       "    .dataframe tbody tr th:only-of-type {\n",
       "        vertical-align: middle;\n",
       "    }\n",
       "\n",
       "    .dataframe tbody tr th {\n",
       "        vertical-align: top;\n",
       "    }\n",
       "\n",
       "    .dataframe thead th {\n",
       "        text-align: right;\n",
       "    }\n",
       "</style>\n",
       "<table border=\"1\" class=\"dataframe\">\n",
       "  <thead>\n",
       "    <tr style=\"text-align: right;\">\n",
       "      <th></th>\n",
       "      <th>Date</th>\n",
       "      <th>Object</th>\n",
       "      <th>Weather</th>\n",
       "    </tr>\n",
       "  </thead>\n",
       "  <tbody>\n",
       "    <tr>\n",
       "      <td>0</td>\n",
       "      <td>2012-03-31</td>\n",
       "      <td>&lt;__main__.W object at 0x11743b080&gt;</td>\n",
       "      <td>https://api.darksky.net/forecast/xxxx/52.52,13...</td>\n",
       "    </tr>\n",
       "    <tr>\n",
       "      <td>1</td>\n",
       "      <td>2011-12-11</td>\n",
       "      <td>&lt;__main__.W object at 0x119c07358&gt;</td>\n",
       "      <td>https://api.darksky.net/forecast/xxxx/52.52,13...</td>\n",
       "    </tr>\n",
       "    <tr>\n",
       "      <td>2</td>\n",
       "      <td>2011-08-13</td>\n",
       "      <td>&lt;__main__.W object at 0x119c07f60&gt;</td>\n",
       "      <td>https://api.darksky.net/forecast/xxxx/52.52,13...</td>\n",
       "    </tr>\n",
       "    <tr>\n",
       "      <td>3</td>\n",
       "      <td>2011-11-27</td>\n",
       "      <td>&lt;__main__.W object at 0x119c07240&gt;</td>\n",
       "      <td>https://api.darksky.net/forecast/xxxx/52.52,13...</td>\n",
       "    </tr>\n",
       "    <tr>\n",
       "      <td>4</td>\n",
       "      <td>2012-02-18</td>\n",
       "      <td>&lt;__main__.W object at 0x119c07198&gt;</td>\n",
       "      <td>https://api.darksky.net/forecast/xxxx/52.52,13...</td>\n",
       "    </tr>\n",
       "    <tr>\n",
       "      <td>...</td>\n",
       "      <td>...</td>\n",
       "      <td>...</td>\n",
       "      <td>...</td>\n",
       "    </tr>\n",
       "    <tr>\n",
       "      <td>597</td>\n",
       "      <td>2011-12-05</td>\n",
       "      <td>&lt;__main__.W object at 0x119c259b0&gt;</td>\n",
       "      <td>https://api.darksky.net/forecast/xxxx/52.52,13...</td>\n",
       "    </tr>\n",
       "    <tr>\n",
       "      <td>598</td>\n",
       "      <td>2012-04-16</td>\n",
       "      <td>&lt;__main__.W object at 0x119c259e8&gt;</td>\n",
       "      <td>https://api.darksky.net/forecast/xxxx/52.52,13...</td>\n",
       "    </tr>\n",
       "    <tr>\n",
       "      <td>602</td>\n",
       "      <td>2011-10-03</td>\n",
       "      <td>&lt;__main__.W object at 0x119c25a20&gt;</td>\n",
       "      <td>https://api.darksky.net/forecast/xxxx/52.52,13...</td>\n",
       "    </tr>\n",
       "    <tr>\n",
       "      <td>604</td>\n",
       "      <td>2012-03-19</td>\n",
       "      <td>&lt;__main__.W object at 0x119c25a58&gt;</td>\n",
       "      <td>https://api.darksky.net/forecast/xxxx/52.52,13...</td>\n",
       "    </tr>\n",
       "    <tr>\n",
       "      <td>609</td>\n",
       "      <td>2011-08-15</td>\n",
       "      <td>&lt;__main__.W object at 0x119c25a90&gt;</td>\n",
       "      <td>https://api.darksky.net/forecast/xxxx/52.52,13...</td>\n",
       "    </tr>\n",
       "  </tbody>\n",
       "</table>\n",
       "<p>136 rows × 3 columns</p>\n",
       "</div>"
      ],
      "text/plain": [
       "           Date                              Object  \\\n",
       "0    2012-03-31  <__main__.W object at 0x11743b080>   \n",
       "1    2011-12-11  <__main__.W object at 0x119c07358>   \n",
       "2    2011-08-13  <__main__.W object at 0x119c07f60>   \n",
       "3    2011-11-27  <__main__.W object at 0x119c07240>   \n",
       "4    2012-02-18  <__main__.W object at 0x119c07198>   \n",
       "..          ...                                 ...   \n",
       "597  2011-12-05  <__main__.W object at 0x119c259b0>   \n",
       "598  2012-04-16  <__main__.W object at 0x119c259e8>   \n",
       "602  2011-10-03  <__main__.W object at 0x119c25a20>   \n",
       "604  2012-03-19  <__main__.W object at 0x119c25a58>   \n",
       "609  2011-08-15  <__main__.W object at 0x119c25a90>   \n",
       "\n",
       "                                               Weather  \n",
       "0    https://api.darksky.net/forecast/xxxx/52.52,13...  \n",
       "1    https://api.darksky.net/forecast/xxxx/52.52,13...  \n",
       "2    https://api.darksky.net/forecast/xxxx/52.52,13...  \n",
       "3    https://api.darksky.net/forecast/xxxx/52.52,13...  \n",
       "4    https://api.darksky.net/forecast/xxxx/52.52,13...  \n",
       "..                                                 ...  \n",
       "597  https://api.darksky.net/forecast/xxxx/52.52,13...  \n",
       "598  https://api.darksky.net/forecast/xxxx/52.52,13...  \n",
       "602  https://api.darksky.net/forecast/xxxx/52.52,13...  \n",
       "604  https://api.darksky.net/forecast/xxxx/52.52,13...  \n",
       "609  https://api.darksky.net/forecast/xxxx/52.52,13...  \n",
       "\n",
       "[136 rows x 3 columns]"
      ]
     },
     "execution_count": 143,
     "metadata": {},
     "output_type": "execute_result"
    }
   ],
   "source": [
    "df_days = pd.DataFrame(df_2011[\"Date\"].drop_duplicates(keep=\"first\"))\n",
    "df_days[\"Object\"] = pd.Series([])\n",
    "df_days[\"Weather\"] = pd.Series([])\n",
    "\n",
    "for i in range(len(df_days[\"Date\"])):\n",
    "    df_days[\"Object\"].iloc[i] = W(df_days[\"Date\"].iloc[i])\n",
    "    df_days[\"Weather\"].iloc[i] = df_days[\"Object\"].iloc[i].link\n",
    "df_days"
   ]
  },
  {
   "cell_type": "code",
   "execution_count": 120,
   "metadata": {},
   "outputs": [
    {
     "data": {
      "text/plain": [
       "136"
      ]
     },
     "execution_count": 120,
     "metadata": {},
     "output_type": "execute_result"
    }
   ],
   "source": [
    "len(df_days)"
   ]
  },
  {
   "cell_type": "code",
   "execution_count": 142,
   "metadata": {},
   "outputs": [],
   "source": [
    "class W():\n",
    "    def __init__(self, date=None, yyyy=None, mm=None, dd=None):\n",
    "        self.date = date + \"T12:00:00\"\n",
    "        self.lat = 52.52\n",
    "        self.long = 13.405\n",
    "        self.exclude = \"?exclude=currently,hourly,flags\"\n",
    "        self.baselink = \"https://api.darksky.net/forecast/\"\n",
    "        self.key = \"xxxx\"\n",
    "        self.link = f\"{self.baselink}{self.key}/{self.lat},{self.long},{self.date}{self.exclude}\" "
   ]
  },
  {
   "cell_type": "code",
   "execution_count": 79,
   "metadata": {
    "scrolled": true
   },
   "outputs": [],
   "source": [
    "#r = requests.get(\"https://api.darksky.net/forecast/dc40686a80b16d006b8747f0706e7215/52.5200,13.4050,2012-03-31T12:00:00?exclude=currently,hourly,flags\")"
   ]
  },
  {
   "cell_type": "code",
   "execution_count": 80,
   "metadata": {},
   "outputs": [],
   "source": [
    "response = r.json() "
   ]
  },
  {
   "cell_type": "code",
   "execution_count": 81,
   "metadata": {},
   "outputs": [
    {
     "data": {
      "text/plain": [
       "{'latitude': 52.52,\n",
       " 'longitude': 13.405,\n",
       " 'timezone': 'Europe/Berlin',\n",
       " 'daily': {'data': [{'time': 1333144800,\n",
       "    'summary': 'Possible drizzle in the morning and afternoon.',\n",
       "    'icon': 'rain',\n",
       "    'sunriseTime': 1333168980,\n",
       "    'sunsetTime': 1333215600,\n",
       "    'moonPhase': 0.28,\n",
       "    'precipIntensity': 0.0003,\n",
       "    'precipIntensityMax': 0.0029,\n",
       "    'precipIntensityMaxTime': 1333181100,\n",
       "    'precipProbability': 0.56,\n",
       "    'precipType': 'rain',\n",
       "    'temperatureHigh': 45.3,\n",
       "    'temperatureHighTime': 1333189200,\n",
       "    'temperatureLow': 29.61,\n",
       "    'temperatureLowTime': 1333256100,\n",
       "    'apparentTemperatureHigh': 36.47,\n",
       "    'apparentTemperatureHighTime': 1333189260,\n",
       "    'apparentTemperatureLow': 23.98,\n",
       "    'apparentTemperatureLowTime': 1333256160,\n",
       "    'dewPoint': 33.51,\n",
       "    'humidity': 0.7,\n",
       "    'windSpeed': 17.37,\n",
       "    'windGust': 40.29,\n",
       "    'windGustTime': 1333162620,\n",
       "    'windBearing': 302,\n",
       "    'cloudCover': 0.7,\n",
       "    'uvIndex': 3,\n",
       "    'uvIndexTime': 1333192200,\n",
       "    'visibility': 6.131,\n",
       "    'temperatureMin': 38.2,\n",
       "    'temperatureMinTime': 1333202400,\n",
       "    'temperatureMax': 46.98,\n",
       "    'temperatureMaxTime': 1333154280,\n",
       "    'apparentTemperatureMin': 30.83,\n",
       "    'apparentTemperatureMinTime': 1333202340,\n",
       "    'apparentTemperatureMax': 40.09,\n",
       "    'apparentTemperatureMaxTime': 1333144800}]},\n",
       " 'offset': 2}"
      ]
     },
     "execution_count": 81,
     "metadata": {},
     "output_type": "execute_result"
    }
   ],
   "source": [
    "response"
   ]
  },
  {
   "cell_type": "code",
   "execution_count": 72,
   "metadata": {},
   "outputs": [
    {
     "data": {
      "text/plain": [
       "dict_keys(['latitude', 'longitude', 'timezone', 'daily', 'offset'])"
      ]
     },
     "execution_count": 72,
     "metadata": {},
     "output_type": "execute_result"
    }
   ],
   "source": [
    "response.keys()"
   ]
  },
  {
   "cell_type": "code",
   "execution_count": 77,
   "metadata": {},
   "outputs": [
    {
     "data": {
      "text/plain": [
       "'Possible drizzle in the morning and afternoon.'"
      ]
     },
     "execution_count": 77,
     "metadata": {},
     "output_type": "execute_result"
    }
   ],
   "source": [
    "response['daily']['data'][0]['summary']"
   ]
  },
  {
   "cell_type": "code",
   "execution_count": null,
   "metadata": {},
   "outputs": [],
   "source": []
  }
 ],
 "metadata": {
  "kernelspec": {
   "display_name": "Python [conda env:learn-env] *",
   "language": "python",
   "name": "conda-env-learn-env-py"
  },
  "language_info": {
   "codemirror_mode": {
    "name": "ipython",
    "version": 3
   },
   "file_extension": ".py",
   "mimetype": "text/x-python",
   "name": "python",
   "nbconvert_exporter": "python",
   "pygments_lexer": "ipython3",
   "version": "3.6.9"
  },
  "toc": {
   "base_numbering": 1,
   "nav_menu": {},
   "number_sections": true,
   "sideBar": true,
   "skip_h1_title": false,
   "title_cell": "Table of Contents",
   "title_sidebar": "Contents",
   "toc_cell": false,
   "toc_position": {},
   "toc_section_display": true,
   "toc_window_display": false
  },
  "varInspector": {
   "cols": {
    "lenName": 16,
    "lenType": 16,
    "lenVar": 40
   },
   "kernels_config": {
    "python": {
     "delete_cmd_postfix": "",
     "delete_cmd_prefix": "del ",
     "library": "var_list.py",
     "varRefreshCmd": "print(var_dic_list())"
    },
    "r": {
     "delete_cmd_postfix": ") ",
     "delete_cmd_prefix": "rm(",
     "library": "var_list.r",
     "varRefreshCmd": "cat(var_dic_list()) "
    }
   },
   "types_to_exclude": [
    "module",
    "function",
    "builtin_function_or_method",
    "instance",
    "_Feature"
   ],
   "window_display": false
  }
 },
 "nbformat": 4,
 "nbformat_minor": 2
}
